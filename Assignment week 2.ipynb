{
 "cells": [
  {
   "cell_type": "raw",
   "id": "06c3c426-8b79-4ae2-9df9-95fcdf9d97be",
   "metadata": {},
   "source": [
    "1.> We comment by using symbols such as '#'and'\"\"\"'.\n",
    "   (i)For single line comment we use '#' or '##'.\n",
    "   (ii)For multiple line comment we use '\"\"\"'.\n",
    "   \n",
    "2.> Variable are the storage location of specific type of data or values.\n",
    "    We can assign a values to a variable by givving '=' sign.\n",
    "    \n",
    "3.> We can convert the data type to other by type casting it.\n",
    "    eg. int(56.89) = 56\n",
    "\n",
    "4.> We cann execute a python script by clickin run button displayed on the screen or simply by clicking 'Shift+Enter'"
   ]
  },
  {
   "cell_type": "code",
   "execution_count": 1,
   "id": "8236b2f4-bcd8-4af3-9515-b0c4cfac0614",
   "metadata": {},
   "outputs": [
    {
     "data": {
      "text/plain": [
       "[2, 3]"
      ]
     },
     "execution_count": 1,
     "metadata": {},
     "output_type": "execute_result"
    }
   ],
   "source": [
    "#5.>\n",
    "my_list=[1,2,3,4,5]\n",
    "sub_list=my_list[1:3]\n",
    "sub_list"
   ]
  },
  {
   "cell_type": "raw",
   "id": "103c31d0-7f7f-453f-91a7-dee8f19e8981",
   "metadata": {},
   "source": [
    "6.> I mathmatics a complex is reppresented by \" a+bi \", where a and b are intiger\n",
    "    But in Python it is represented by \" a+bj \"."
   ]
  },
  {
   "cell_type": "code",
   "execution_count": 2,
   "id": "45ec0bd5-51ad-4f69-aaee-ec0f4040f631",
   "metadata": {},
   "outputs": [],
   "source": [
    "#7.>\n",
    "age=25"
   ]
  },
  {
   "cell_type": "code",
   "execution_count": 4,
   "id": "389acf14-3206-4a4d-b194-c9e5969472e5",
   "metadata": {},
   "outputs": [
    {
     "data": {
      "text/plain": [
       "float"
      ]
     },
     "execution_count": 4,
     "metadata": {},
     "output_type": "execute_result"
    }
   ],
   "source": [
    "#8.>\n",
    "price=9.99\n",
    "type(price)"
   ]
  },
  {
   "cell_type": "code",
   "execution_count": 5,
   "id": "cbd0b576-6b42-4a94-8778-8b5be3cf65e5",
   "metadata": {},
   "outputs": [
    {
     "data": {
      "text/plain": [
       "'Asutosh Pradhan'"
      ]
     },
     "execution_count": 5,
     "metadata": {},
     "output_type": "execute_result"
    }
   ],
   "source": [
    "#9.>\n",
    "name='Asutosh Pradhan'\n",
    "name"
   ]
  },
  {
   "cell_type": "code",
   "execution_count": 6,
   "id": "55be5074-8bdd-4e73-a856-0cd6bc26a0c8",
   "metadata": {},
   "outputs": [
    {
     "data": {
      "text/plain": [
       "'World'"
      ]
     },
     "execution_count": 6,
     "metadata": {},
     "output_type": "execute_result"
    }
   ],
   "source": [
    "#10.>\n",
    "a=\"Hello, World!\"\n",
    "a[7:12]"
   ]
  },
  {
   "cell_type": "code",
   "execution_count": 7,
   "id": "6d835154-89cc-48da-9264-2abed6f29184",
   "metadata": {},
   "outputs": [],
   "source": [
    "#11.>\n",
    "is_student=True"
   ]
  }
 ],
 "metadata": {
  "kernelspec": {
   "display_name": "Python 3 (ipykernel)",
   "language": "python",
   "name": "python3"
  },
  "language_info": {
   "codemirror_mode": {
    "name": "ipython",
    "version": 3
   },
   "file_extension": ".py",
   "mimetype": "text/x-python",
   "name": "python",
   "nbconvert_exporter": "python",
   "pygments_lexer": "ipython3",
   "version": "3.10.8"
  }
 },
 "nbformat": 4,
 "nbformat_minor": 5
}
